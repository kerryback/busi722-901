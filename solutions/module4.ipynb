{
 "cells": [
  {
   "cell_type": "markdown",
   "id": "3a9f0093-9a2a-4948-9bfb-aae078fdd0a7",
   "metadata": {},
   "source": [
    "4.2 Building on the code in the binder, create 3 pipelines. A simple combination would be Quantile Transformation + Model, Quantile Transformation + Polynomial Transformation + Model.. Save your favorite pipeline, you will need it in the next assignment.\n",
    "\n",
    " \n",
    "\n",
    "Note: Upload a .ipynb file or a pdf of your notebook (preferred)."
   ]
  },
  {
   "cell_type": "code",
   "execution_count": 13,
   "id": "c69a397c-b669-4eac-b7f1-2d5e74ff318d",
   "metadata": {},
   "outputs": [],
   "source": [
    "from sqlalchemy import create_engine\n",
    "import pymssql\n",
    "import pandas as pd\n",
    "\n",
    "from sklearn.preprocessing import QuantileTransformer\n",
    "from sklearn.preprocessing import PolynomialFeatures\n",
    "from sklearn.compose import make_column_transformer\n",
    "from sklearn.preprocessing import OneHotEncoder\n",
    "from sklearn.pipeline import make_pipeline\n",
    "from sklearn.linear_model import LinearRegression"
   ]
  },
  {
   "cell_type": "code",
   "execution_count": 14,
   "id": "d3dafce0-f694-4134-9ad4-951fbc75e7e6",
   "metadata": {},
   "outputs": [],
   "source": [
    "server = \"mssql-82792-0.cloudclusters.net:16272\"\n",
    "username = \"user\"\n",
    "password = \"RiceOwls1912\" \n",
    "database = \"ghz\"\n",
    "string = \"mssql+pymssql://\" + username + \":\" + password + \"@\" + server + \"/\" + database\n",
    "\n",
    "conn = create_engine(string).connect()"
   ]
  },
  {
   "cell_type": "code",
   "execution_count": 15,
   "id": "dec8e999-cebd-4212-989d-1ac7801805fd",
   "metadata": {},
   "outputs": [],
   "source": [
    "df = pd.read_sql(\n",
    "    \"\"\"\n",
    "    select date, ticker, bm, mom12m, roeq, siccd, ret\n",
    "    from data\n",
    "    order by date, ticker\n",
    "    \"\"\",\n",
    "    conn\n",
    ")\n",
    "df = df.dropna()\n",
    "df = df.set_index([\"date\", \"ticker\"])\n",
    "features = [\"bm\", \"mom12m\", \"roeq\"]"
   ]
  },
  {
   "cell_type": "code",
   "execution_count": 16,
   "id": "e9656e7c-05f3-4e30-a471-2906abe41c2e",
   "metadata": {},
   "outputs": [],
   "source": [
    "df[\"actual\"] = df.ret\n",
    "\n",
    "qt = QuantileTransformer(output_distribution=\"normal\")\n",
    "\n",
    "grouped = df.groupby(\"date\", group_keys=False)\n",
    "df[features+[\"ret\"]] = grouped[features+[\"ret\"]].apply(\n",
    "  lambda d: \n",
    "    pd.DataFrame(\n",
    "      qt.fit_transform(d),\n",
    "      columns=d.columns,\n",
    "      index=d.index\n",
    "    )     \n",
    ")"
   ]
  },
  {
   "cell_type": "code",
   "execution_count": 17,
   "id": "9012d0d4-c2c9-4692-84ee-fc98e0015044",
   "metadata": {},
   "outputs": [],
   "source": [
    "inds = pd.read_csv(\"siccodes12.csv\", index_col=\"industry\")\n",
    "def industry(sic):\n",
    "    try: return inds[(inds.start<=sic)&(sic<=inds.end)].index[0]\n",
    "    except: return \"Other\"\n",
    "    \n",
    "codes = pd.Series({code: industry(code) for code in df.siccd.unique()}).reset_index()\n",
    "codes.columns = [\"siccd\", \"industry\"]\n",
    "df = df.reset_index().merge(codes, on=\"siccd\").set_index([\"date\", \"ticker\"])\n",
    "features.append(\"industry\")"
   ]
  },
  {
   "cell_type": "code",
   "execution_count": 18,
   "id": "660a4571-7eb5-4ec0-af9a-e37c75bc81f2",
   "metadata": {},
   "outputs": [],
   "source": [
    "pipe1 = make_pipeline(\n",
    "    make_column_transformer((OneHotEncoder(), [\"industry\"]), remainder=\"passthrough\"),\n",
    "    LinearRegression(fit_intercept=False)\n",
    ")\n",
    "\n",
    "pipe2 = make_pipeline(\n",
    "    make_column_transformer((OneHotEncoder(), [\"industry\"]), remainder=\"passthrough\"),\n",
    "    PolynomialFeatures(degree=2),\n",
    "    LinearRegression(fit_intercept=False)\n",
    ")\n",
    "\n",
    "pipe3 = make_pipeline(\n",
    "    make_column_transformer((OneHotEncoder(), [\"industry\"]), remainder=\"passthrough\"),\n",
    "    PolynomialFeatures(degree=3),\n",
    "    LinearRegression(fit_intercept=False)\n",
    ")"
   ]
  },
  {
   "cell_type": "code",
   "execution_count": 19,
   "id": "38b9f5d4-ceb3-4c41-ac41-d1f91a62fe20",
   "metadata": {},
   "outputs": [
    {
     "name": "stdout",
     "output_type": "stream",
     "text": [
      "Three pipelines created and Pipeline 2 saved as best_pipeline.pkl\n"
     ]
    }
   ],
   "source": [
    "with open('best_pipeline.pkl', 'wb') as f:\n",
    "    pickle.dump(pipe2, f)\n",
    "\n",
    "print(\"Three pipelines created and Pipeline 2 saved as best_pipeline.pkl\")"
   ]
  },
  {
   "cell_type": "markdown",
   "id": "2779946f-9ecd-4fde-9b6d-8028e0a846df",
   "metadata": {},
   "source": [
    "4.3 Run a backtest loop on one of the pipelines from the last assignment.  Save the predictions to a csv file.  You will use the predictions in your next assignments.\n",
    "\n",
    " \n",
    "\n",
    "Note: Upload a .ipynb file and a .csv file of predictions or a pdf of your notebook (preferred)."
   ]
  },
  {
   "cell_type": "code",
   "execution_count": 20,
   "id": "deb76aa4-8d62-4d11-80bf-06211b811234",
   "metadata": {},
   "outputs": [
    {
     "name": "stdout",
     "output_type": "stream",
     "text": [
      "Train set score: 0.009574115169326602\n",
      "Test set score: 0.001374573602032192\n",
      "Train set score: 0.007183717108314003\n",
      "Test set score: 0.004316111626375685\n",
      "Train set score: 0.006708201060199315\n",
      "Test set score: 0.006813238086089912\n",
      "Train set score: 0.00692597743473411\n",
      "Test set score: 0.0012358975841959552\n"
     ]
    }
   ],
   "source": [
    "dates = [\"2005-01\", \"2010-01\", \"2015-01\", \"2020-01\", \"3000-01\"]\n",
    "predictions = None\n",
    "\n",
    "for train_date, end_date in zip(dates[:-1], dates[1:]):\n",
    "  \n",
    "  fltr1 = df.index.get_level_values(\"date\") < train_date\n",
    "  fltr2 = df.index.get_level_values(\"date\") < end_date\n",
    "  train = df[fltr1]\n",
    "  test = df[~fltr1 & fltr2]\n",
    "\n",
    "  Xtrain = train[features]\n",
    "  ytrain = train[\"ret\"]\n",
    "  Xtest = test[features]\n",
    "  ytest = test[\"ret\"]\n",
    "\n",
    "  pipe2.fit(Xtrain, ytrain)\n",
    "  print('Train set score: ' + str(pipe2.score(Xtrain, ytrain)))\n",
    "\n",
    "  pred = pipe2.predict(Xtest)\n",
    "  pred = pd.Series(pred, index=test.index)\n",
    "  predictions = pd.concat((predictions, pred))\n",
    "  print('Test set score: ' + str(pipe2.score(Xtest,ytest)))"
   ]
  },
  {
   "cell_type": "code",
   "execution_count": 21,
   "id": "0eef6c15-807c-4977-bc3a-011a0297f723",
   "metadata": {},
   "outputs": [
    {
     "data": {
      "text/html": [
       "<div>\n",
       "<style scoped>\n",
       "    .dataframe tbody tr th:only-of-type {\n",
       "        vertical-align: middle;\n",
       "    }\n",
       "\n",
       "    .dataframe tbody tr th {\n",
       "        vertical-align: top;\n",
       "    }\n",
       "\n",
       "    .dataframe thead th {\n",
       "        text-align: right;\n",
       "    }\n",
       "</style>\n",
       "<table border=\"1\" class=\"dataframe\">\n",
       "  <thead>\n",
       "    <tr style=\"text-align: right;\">\n",
       "      <th></th>\n",
       "      <th></th>\n",
       "      <th>bm</th>\n",
       "      <th>mom12m</th>\n",
       "      <th>roeq</th>\n",
       "      <th>siccd</th>\n",
       "      <th>ret</th>\n",
       "      <th>actual</th>\n",
       "      <th>industry</th>\n",
       "    </tr>\n",
       "    <tr>\n",
       "      <th>date</th>\n",
       "      <th>ticker</th>\n",
       "      <th></th>\n",
       "      <th></th>\n",
       "      <th></th>\n",
       "      <th></th>\n",
       "      <th></th>\n",
       "      <th></th>\n",
       "      <th></th>\n",
       "    </tr>\n",
       "  </thead>\n",
       "  <tbody>\n",
       "    <tr>\n",
       "      <th rowspan=\"5\" valign=\"top\">2000-01</th>\n",
       "      <th>AA</th>\n",
       "      <td>-0.221091</td>\n",
       "      <td>1.062016</td>\n",
       "      <td>0.513798</td>\n",
       "      <td>3334</td>\n",
       "      <td>-1.147423</td>\n",
       "      <td>-0.160392</td>\n",
       "      <td>Manufacturing</td>\n",
       "    </tr>\n",
       "    <tr>\n",
       "      <th>AABC</th>\n",
       "      <td>1.089328</td>\n",
       "      <td>0.289466</td>\n",
       "      <td>0.914883</td>\n",
       "      <td>6020</td>\n",
       "      <td>-0.172190</td>\n",
       "      <td>-0.029528</td>\n",
       "      <td>Finance</td>\n",
       "    </tr>\n",
       "    <tr>\n",
       "      <th>AAC</th>\n",
       "      <td>1.851066</td>\n",
       "      <td>0.568127</td>\n",
       "      <td>0.908383</td>\n",
       "      <td>6153</td>\n",
       "      <td>0.406022</td>\n",
       "      <td>0.056338</td>\n",
       "      <td>Finance</td>\n",
       "    </tr>\n",
       "    <tr>\n",
       "      <th>AACE</th>\n",
       "      <td>-0.498708</td>\n",
       "      <td>0.327035</td>\n",
       "      <td>0.781803</td>\n",
       "      <td>6090</td>\n",
       "      <td>-0.444534</td>\n",
       "      <td>-0.067568</td>\n",
       "      <td>Finance</td>\n",
       "    </tr>\n",
       "    <tr>\n",
       "      <th>AAG</th>\n",
       "      <td>0.413821</td>\n",
       "      <td>-0.721939</td>\n",
       "      <td>0.127096</td>\n",
       "      <td>3675</td>\n",
       "      <td>-0.701858</td>\n",
       "      <td>-0.100694</td>\n",
       "      <td>Business Equipment</td>\n",
       "    </tr>\n",
       "    <tr>\n",
       "      <th>...</th>\n",
       "      <th>...</th>\n",
       "      <td>...</td>\n",
       "      <td>...</td>\n",
       "      <td>...</td>\n",
       "      <td>...</td>\n",
       "      <td>...</td>\n",
       "      <td>...</td>\n",
       "      <td>...</td>\n",
       "    </tr>\n",
       "    <tr>\n",
       "      <th rowspan=\"5\" valign=\"top\">2022-03</th>\n",
       "      <th>ZTS</th>\n",
       "      <td>-1.365680</td>\n",
       "      <td>0.901439</td>\n",
       "      <td>1.360634</td>\n",
       "      <td>2834</td>\n",
       "      <td>-0.317832</td>\n",
       "      <td>-0.026130</td>\n",
       "      <td>Healthcare</td>\n",
       "    </tr>\n",
       "    <tr>\n",
       "      <th>ZUMZ</th>\n",
       "      <td>0.208198</td>\n",
       "      <td>-0.115132</td>\n",
       "      <td>0.412236</td>\n",
       "      <td>5600</td>\n",
       "      <td>-1.463068</td>\n",
       "      <td>-0.141155</td>\n",
       "      <td>Shops</td>\n",
       "    </tr>\n",
       "    <tr>\n",
       "      <th>ZVO</th>\n",
       "      <td>-0.047195</td>\n",
       "      <td>-2.020965</td>\n",
       "      <td>-1.303226</td>\n",
       "      <td>8221</td>\n",
       "      <td>-2.140409</td>\n",
       "      <td>-0.261171</td>\n",
       "      <td>Other</td>\n",
       "    </tr>\n",
       "    <tr>\n",
       "      <th>ZWS</th>\n",
       "      <td>-0.265108</td>\n",
       "      <td>0.993435</td>\n",
       "      <td>-0.431020</td>\n",
       "      <td>3569</td>\n",
       "      <td>0.803551</td>\n",
       "      <td>0.088561</td>\n",
       "      <td>Manufacturing</td>\n",
       "    </tr>\n",
       "    <tr>\n",
       "      <th>ZYNE</th>\n",
       "      <td>0.397684</td>\n",
       "      <td>-1.067936</td>\n",
       "      <td>-1.343087</td>\n",
       "      <td>9999</td>\n",
       "      <td>-1.030619</td>\n",
       "      <td>-0.092920</td>\n",
       "      <td>Other</td>\n",
       "    </tr>\n",
       "  </tbody>\n",
       "</table>\n",
       "<p>977804 rows × 7 columns</p>\n",
       "</div>"
      ],
      "text/plain": [
       "                      bm    mom12m      roeq  siccd       ret    actual  \\\n",
       "date    ticker                                                            \n",
       "2000-01 AA     -0.221091  1.062016  0.513798   3334 -1.147423 -0.160392   \n",
       "        AABC    1.089328  0.289466  0.914883   6020 -0.172190 -0.029528   \n",
       "        AAC     1.851066  0.568127  0.908383   6153  0.406022  0.056338   \n",
       "        AACE   -0.498708  0.327035  0.781803   6090 -0.444534 -0.067568   \n",
       "        AAG     0.413821 -0.721939  0.127096   3675 -0.701858 -0.100694   \n",
       "...                  ...       ...       ...    ...       ...       ...   \n",
       "2022-03 ZTS    -1.365680  0.901439  1.360634   2834 -0.317832 -0.026130   \n",
       "        ZUMZ    0.208198 -0.115132  0.412236   5600 -1.463068 -0.141155   \n",
       "        ZVO    -0.047195 -2.020965 -1.303226   8221 -2.140409 -0.261171   \n",
       "        ZWS    -0.265108  0.993435 -0.431020   3569  0.803551  0.088561   \n",
       "        ZYNE    0.397684 -1.067936 -1.343087   9999 -1.030619 -0.092920   \n",
       "\n",
       "                          industry  \n",
       "date    ticker                      \n",
       "2000-01 AA           Manufacturing  \n",
       "        AABC               Finance  \n",
       "        AAC                Finance  \n",
       "        AACE               Finance  \n",
       "        AAG     Business Equipment  \n",
       "...                            ...  \n",
       "2022-03 ZTS             Healthcare  \n",
       "        ZUMZ                 Shops  \n",
       "        ZVO                  Other  \n",
       "        ZWS          Manufacturing  \n",
       "        ZYNE                 Other  \n",
       "\n",
       "[977804 rows x 7 columns]"
      ]
     },
     "execution_count": 21,
     "metadata": {},
     "output_type": "execute_result"
    }
   ],
   "source": [
    "df"
   ]
  },
  {
   "cell_type": "code",
   "execution_count": 22,
   "id": "d91cc52c-387b-4129-9e2b-ad4444662058",
   "metadata": {},
   "outputs": [],
   "source": [
    "df[\"predict\"] = predictions\n",
    "df.to_csv(\"predictions.csv\")"
   ]
  },
  {
   "cell_type": "markdown",
   "id": "3f29f7e6-30da-423f-9aa2-349bbd7d8041",
   "metadata": {},
   "source": [
    "4.4 Using the predictions from Exercise 4.3, compute and plot the returns of a 150/50 strategy, where each month the long side consists of the 150 top stocks equally weighted, and the short side consists of the 100 bottom stocks equally weighted.  \n",
    "\n",
    " \n",
    "\n",
    "Note: Upload a .ipynb file or a pdf of your notebook (preferred)."
   ]
  },
  {
   "cell_type": "code",
   "execution_count": 34,
   "id": "0f7d794d-854f-4d81-8094-59dec86255b9",
   "metadata": {},
   "outputs": [
    {
     "data": {
      "image/png": "[encoded data removed]",
      "text/plain": [
       "<Figure size 1200x600 with 1 Axes>"
      ]
     },
     "metadata": {},
     "output_type": "display_data"
    }
   ],
   "source": [
    "import matplotlib.pyplot as plt\n",
    "\n",
    "numlong = 150\n",
    "numshort = 100\n",
    "\n",
    "df[\"rank_from_top\"] = df.groupby(\"date\").predict.rank(\n",
    "  method=\"first\", \n",
    "  ascending=False\n",
    ")\n",
    "df[\"long\"] = df.rank_from_top <= numlong\n",
    "\n",
    "df[\"rank_from_bottom\"] = df.groupby(\"date\").predict.rank(\n",
    "  method=\"first\"\n",
    ")\n",
    "df[\"short\"] = df.rank_from_bottom <= numshort\n",
    "\n",
    "df = df[df.index.get_level_values(\"date\") >= dates[0]]\n",
    "\n",
    "long_ret = df[df.long].groupby(\"date\").actual.mean()\n",
    "short_ret = df[df.short].groupby(\"date\").actual.mean()\n",
    "\n",
    "\n",
    "ret = 1.5 * long_ret - 0.5 * short_ret\n",
    "\n",
    "#Plotting\n",
    "cumulative_ret = (1 + ret).cumprod() - 1\n",
    "\n",
    "plt.figure(figsize=(12, 6))\n",
    "plt.plot(cumulative_ret.index, cumulative_ret, label='150/50 Strategy')\n",
    "\n",
    "plt.title('Cumulative Returns of 150/50 Long-Short Strategy', fontsize=14)\n",
    "plt.xlabel('Date', fontsize=12)\n",
    "plt.ylabel('Cumulative Return', fontsize=12)\n",
    "plt.legend()\n",
    "plt.show()"
   ]
  },
  {
   "cell_type": "code",
   "execution_count": 31,
   "id": "4d364239-2992-49e4-8d05-a3db4caa2a82",
   "metadata": {},
   "outputs": [
    {
     "data": {
      "text/plain": [
       "date\n",
       "2005-01    0.053441\n",
       "2005-02    0.114458\n",
       "2005-03    0.023522\n",
       "2005-04    0.007499\n",
       "2005-05    0.047642\n",
       "             ...   \n",
       "2021-11    0.037313\n",
       "2021-12    0.114036\n",
       "2022-01    0.026445\n",
       "2022-02    0.021492\n",
       "2022-03   -0.034094\n",
       "Name: actual, Length: 207, dtype: float64"
      ]
     },
     "execution_count": 31,
     "metadata": {},
     "output_type": "execute_result"
    }
   ],
   "source": [
    "ret"
   ]
  },
  {
   "cell_type": "code",
   "execution_count": null,
   "id": "21f2338b-491e-446f-a7f0-23499abc91b3",
   "metadata": {},
   "outputs": [],
   "source": []
  }
 ],
 "metadata": {
  "kernelspec": {
   "display_name": "Python 3 (ipykernel)",
   "language": "python",
   "name": "python3"
  },
  "language_info": {
   "codemirror_mode": {
    "name": "ipython",
    "version": 3
   },
   "file_extension": ".py",
   "mimetype": "text/x-python",
   "name": "python",
   "nbconvert_exporter": "python",
   "pygments_lexer": "ipython3",
   "version": "3.9.6"
  }
 },
 "nbformat": 4,
 "nbformat_minor": 5
}
