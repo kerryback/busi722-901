{
 "cells": [
  {
   "attachments": {},
   "cell_type": "markdown",
   "metadata": {},
   "source": [
    "# Repeat from 4e1"
   ]
  },
  {
   "cell_type": "code",
   "execution_count": 1,
   "metadata": {},
   "outputs": [],
   "source": [
    "from sqlalchemy import create_engine\n",
    "import pymssql\n",
    "import pandas as pd\n",
    "\n",
    "from sklearn.preprocessing import QuantileTransformer\n",
    "from joblib import load"
   ]
  },
  {
   "cell_type": "code",
   "execution_count": 2,
   "metadata": {},
   "outputs": [
    {
     "name": "stderr",
     "output_type": "stream",
     "text": [
      "c:\\Users\\kerry\\AppData\\Local\\Programs\\Python\\Python310\\lib\\site-packages\\sklearn\\base.py:329: UserWarning: Trying to unpickle estimator OneHotEncoder from version 1.2.0 when using version 1.1.2. This might lead to breaking code or invalid results. Use at your own risk. For more info please refer to:\n",
      "https://scikit-learn.org/stable/model_persistence.html#security-maintainability-limitations\n",
      "  warnings.warn(\n",
      "c:\\Users\\kerry\\AppData\\Local\\Programs\\Python\\Python310\\lib\\site-packages\\sklearn\\base.py:329: UserWarning: Trying to unpickle estimator FunctionTransformer from version 1.2.0 when using version 1.1.2. This might lead to breaking code or invalid results. Use at your own risk. For more info please refer to:\n",
      "https://scikit-learn.org/stable/model_persistence.html#security-maintainability-limitations\n",
      "  warnings.warn(\n",
      "c:\\Users\\kerry\\AppData\\Local\\Programs\\Python\\Python310\\lib\\site-packages\\sklearn\\base.py:329: UserWarning: Trying to unpickle estimator ColumnTransformer from version 1.2.0 when using version 1.1.2. This might lead to breaking code or invalid results. Use at your own risk. For more info please refer to:\n",
      "https://scikit-learn.org/stable/model_persistence.html#security-maintainability-limitations\n",
      "  warnings.warn(\n",
      "c:\\Users\\kerry\\AppData\\Local\\Programs\\Python\\Python310\\lib\\site-packages\\sklearn\\base.py:329: UserWarning: Trying to unpickle estimator PolynomialFeatures from version 1.2.0 when using version 1.1.2. This might lead to breaking code or invalid results. Use at your own risk. For more info please refer to:\n",
      "https://scikit-learn.org/stable/model_persistence.html#security-maintainability-limitations\n",
      "  warnings.warn(\n",
      "c:\\Users\\kerry\\AppData\\Local\\Programs\\Python\\Python310\\lib\\site-packages\\sklearn\\base.py:329: UserWarning: Trying to unpickle estimator LinearRegression from version 1.2.0 when using version 1.1.2. This might lead to breaking code or invalid results. Use at your own risk. For more info please refer to:\n",
      "https://scikit-learn.org/stable/model_persistence.html#security-maintainability-limitations\n",
      "  warnings.warn(\n",
      "c:\\Users\\kerry\\AppData\\Local\\Programs\\Python\\Python310\\lib\\site-packages\\sklearn\\base.py:329: UserWarning: Trying to unpickle estimator Pipeline from version 1.2.0 when using version 1.1.2. This might lead to breaking code or invalid results. Use at your own risk. For more info please refer to:\n",
      "https://scikit-learn.org/stable/model_persistence.html#security-maintainability-limitations\n",
      "  warnings.warn(\n"
     ]
    }
   ],
   "source": [
    "pipe = load(\"mypipe.joblib\")"
   ]
  },
  {
   "cell_type": "code",
   "execution_count": 3,
   "metadata": {},
   "outputs": [],
   "source": [
    "server = 'fs.rice.edu'\n",
    "database = 'stocks'\n",
    "username = 'stocks'\n",
    "password = '6LAZH1'\n",
    "string = \"mssql+pymssql://\" + username + \":\" + password + \"@\" + server + \"/\" + database \n",
    "\n",
    "conn = create_engine(string).connect()"
   ]
  },
  {
   "cell_type": "code",
   "execution_count": 4,
   "metadata": {},
   "outputs": [],
   "source": [
    "df = pd.read_sql(\n",
    "    \"\"\"\n",
    "    select ticker, bm, mom12m, roeq, siccd\n",
    "    from ghz\n",
    "    order by ticker\n",
    "    \"\"\",\n",
    "    conn\n",
    ")\n",
    "df = df.dropna()\n",
    "df = df.set_index(\"ticker\")\n",
    "features = [\"bm\", \"mom12m\", \"roeq\"]"
   ]
  },
  {
   "cell_type": "code",
   "execution_count": 5,
   "metadata": {},
   "outputs": [],
   "source": [
    "qt = QuantileTransformer(output_distribution=\"normal\")\n",
    "df[features] = qt.fit_transform(df[features])"
   ]
  },
  {
   "cell_type": "code",
   "execution_count": 6,
   "metadata": {},
   "outputs": [],
   "source": [
    "inds = pd.read_csv(\"siccodes12.csv\", index_col=\"industry\")\n",
    "ind_names = inds.index.unique().to_list()\n",
    "\n",
    "def industry(sic):\n",
    "  try:\n",
    "    return inds[(inds.start<=sic)&(sic<=inds.end)].index[0]\n",
    "  except:\n",
    "    return \"Other\"\n",
    "    \n",
    "df[\"industry\"] = df.siccd.map(industry)\n",
    "features.append(\"industry\")"
   ]
  },
  {
   "cell_type": "code",
   "execution_count": 7,
   "metadata": {},
   "outputs": [],
   "source": [
    "df[\"predict\"] = pipe.predict(df[features])"
   ]
  },
  {
   "attachments": {},
   "cell_type": "markdown",
   "metadata": {},
   "source": [
    "# Additional imports"
   ]
  },
  {
   "cell_type": "code",
   "execution_count": 8,
   "metadata": {},
   "outputs": [],
   "source": [
    "from datetime import datetime\n",
    "from pathlib import Path\n",
    "import numpy as np\n",
    "\n",
    "from alpaca.trading.client import TradingClient\n",
    "from alpaca.data import StockHistoricalDataClient\n",
    "from alpaca.data.requests import StockLatestQuoteRequest\n",
    "from alpaca.trading.requests import MarketOrderRequest\n",
    "from alpaca.trading.enums import OrderSide, TimeInForce\n",
    "\n",
    "KEY = \"PK11EGE7U1KLVJDCOUKH\"\n",
    "SECRET_KEY = \"oGTDIwcIgRajhyM0yq1knAjzjLtfQQ6xUTA4uBfp\" "
   ]
  },
  {
   "attachments": {},
   "cell_type": "markdown",
   "metadata": {},
   "source": [
    "# Tradable and shortable"
   ]
  },
  {
   "cell_type": "code",
   "execution_count": 9,
   "metadata": {},
   "outputs": [],
   "source": [
    "trading_client = TradingClient(KEY, SECRET_KEY, paper=True)\n",
    "assets = trading_client.get_all_assets()\n",
    "\n",
    "tradable = {x.symbol:x.tradable for x in assets}\n",
    "df[\"tradable\"] = [tradable[tick] if tick in tradable else False for tick in df.index]\n",
    "\n",
    "shortable = {x.symbol:x.shortable for x in assets}\n",
    "df[\"shortable\"] = [shortable[tick] if tick in shortable else False for tick in df.index]"
   ]
  },
  {
   "attachments": {},
   "cell_type": "markdown",
   "metadata": {},
   "source": [
    "# Bid and ask prices"
   ]
  },
  {
   "cell_type": "code",
   "execution_count": 10,
   "metadata": {},
   "outputs": [],
   "source": [
    "data_client = StockHistoricalDataClient(KEY, SECRET_KEY)\n",
    "params = StockLatestQuoteRequest(\n",
    "  symbol_or_symbols=df.index.to_list()\n",
    ")\n",
    "quotes = data_client.get_stock_latest_quote(params)\n",
    "\n",
    "asks = {x: quotes[x].ask_price for x in quotes}\n",
    "bids = {x: quotes[x].bid_price for x in quotes}\n",
    "\n",
    "df[\"ask\"] = [asks[tick] if tick in asks else 0 for tick in df.index]\n",
    "df[\"bid\"] = [bids[tick] if tick in bids else 0 for tick in df.index]"
   ]
  },
  {
   "attachments": {},
   "cell_type": "markdown",
   "metadata": {},
   "source": [
    "# Equity and current positions"
   ]
  },
  {
   "cell_type": "code",
   "execution_count": 11,
   "metadata": {},
   "outputs": [],
   "source": [
    "account = trading_client.get_account()\n",
    "equity = float(account.equity)\n",
    "\n",
    "current = trading_client.get_all_positions()\n",
    "current = {x.symbol: int(x.qty) for x in current}\n",
    "df[\"current\"] = [current[tick] if tick in current else 0 for tick in df.index]\n"
   ]
  },
  {
   "attachments": {},
   "cell_type": "markdown",
   "metadata": {},
   "source": [
    "# Ranking tradable and shortable stocks"
   ]
  },
  {
   "cell_type": "code",
   "execution_count": 12,
   "metadata": {},
   "outputs": [],
   "source": [
    "df[\"predict_long\"] = np.where(\n",
    "  df.tradable & (df.ask>0), \n",
    "  df.predict, np.nan\n",
    ")\n",
    "df[\"rank_from_top\"] = df.predict_long.rank(\n",
    "  ascending=False, \n",
    "  method=\"first\"\n",
    ")\n",
    "\n",
    "df[\"predict_short\"] = np.where(\n",
    "  df.shortable & (df.bid>0), \n",
    "  df.predict, np.nan\n",
    ")\n",
    "df[\"rank_from_bottom\"] = df.predict_short.rank(method=\"first\")"
   ]
  },
  {
   "attachments": {},
   "cell_type": "markdown",
   "metadata": {},
   "source": [
    "# Longs and shorts"
   ]
  },
  {
   "cell_type": "code",
   "execution_count": 13,
   "metadata": {},
   "outputs": [
    {
     "name": "stdout",
     "output_type": "stream",
     "text": [
      "number long is 12\n",
      "number short is 13\n"
     ]
    }
   ],
   "source": [
    "numlong = numshort = 100\n",
    "\n",
    "df[\"long\"] = df.rank_from_top <= numlong\n",
    "df[\"short\"] = df.rank_from_bottom <= numshort\n",
    "\n",
    "print(f\"number long is {df[df.long].shape[0]}\")\n",
    "print(f\"number short is {df[df.short].shape[0]}\")"
   ]
  },
  {
   "attachments": {},
   "cell_type": "markdown",
   "metadata": {},
   "source": [
    "# Targets and trades"
   ]
  },
  {
   "cell_type": "code",
   "execution_count": 14,
   "metadata": {},
   "outputs": [],
   "source": [
    "df[\"target_dollars\"] = (\n",
    "  (1.5*equity/numlong)*df.long - \n",
    "      (0.5*equity/numshort)*df.short\n",
    ")\n",
    "df[\"current_dollars\"] = df.current*(df.bid+df.ask)/2\n",
    "df[\"trade_dollars\"] = df.target_dollars - df.current_dollars\n",
    "df[\"trade\"] = (\n",
    "    (df.trade_dollars>0)*df.trade_dollars/df.ask\n",
    "    + (df.trade_dollars<0)*df.trade_dollars/df.bid\n",
    ")\n",
    "df[\"trade\"] = df.trade.fillna(0)\n",
    "df[\"trade\"] = df.trade.astype(int)"
   ]
  },
  {
   "attachments": {},
   "cell_type": "markdown",
   "metadata": {},
   "source": [
    "# Submit trades"
   ]
  },
  {
   "cell_type": "code",
   "execution_count": null,
   "metadata": {},
   "outputs": [],
   "source": [
    "for tick in df[df.trade!=0].index:\n",
    "  market_order_data = MarketOrderRequest(\n",
    "    symbol=tick,\n",
    "    qty=abs(df.trade[tick]),\n",
    "    side=OrderSide.BUY if df.trade>0 else OrderSide.SELL,\n",
    "    time_in_force=TimeInForce.DAY\n",
    "  )\n",
    "  market_order = trading_client.submit_order(\n",
    "    order_data=market_order_data\n",
    "  )"
   ]
  },
  {
   "attachments": {},
   "cell_type": "markdown",
   "metadata": {},
   "source": [
    "# Save data"
   ]
  },
  {
   "cell_type": "code",
   "execution_count": null,
   "metadata": {},
   "outputs": [],
   "source": [
    "today = datetime.today().strftime(\"%Y-%m-%d\")\n",
    "df[\"date\"] = today\n",
    "df = df[[\"date\", \"trade\"]].reset_index()\n",
    "\n",
    "df[\"date\"] = today\n",
    "\n",
    "if Path('./trades.csv').is_file():\n",
    "    d = pd.read_csv(\"trades.csv\")\n",
    "    d = d[d.date != today]\n",
    "    d = pd.concat((d, df))\n",
    "    df.to_csv(\"trades.csv\")\n",
    "else:\n",
    "    df.to_csv(\"trades.csv\")\n",
    "\n",
    "account = trading_client.get_account()\n",
    "account = dict(account)\n",
    "account = pd.DataFrame(pd.Series(account)).T\n",
    "account[\"date\"] = today\n",
    "\n",
    "if Path('./account.csv').is_file():\n",
    "    d = pd.read_csv(\"account.csv\")\n",
    "    d = d[d.date != today]\n",
    "    d = pd.concat((d, account))\n",
    "    d.to_csv(\"account.csv\")\n",
    "else:\n",
    "    account.to_csv(\"account.csv\")\n",
    "\n",
    "positions = trading_client.get_all_positions()\n",
    "positions = {x.symbol: x.qty for x in positions}\n",
    "positions = pd.DataFrame(pd.Series(positions))\n",
    "positions[\"date\"] = today\n",
    "\n",
    "if Path('./positions.csv').is_file():\n",
    "    d = pd.read_csv(\"positions.csv\")\n",
    "    d = d[d.date != today]\n",
    "    d = pd.concat((d, positions))\n",
    "    d.to_csv(\"positions.csv\")\n",
    "else:\n",
    "    positions.to_csv(\"positions.csv\")\n"
   ]
  }
 ],
 "metadata": {
  "kernelspec": {
   "display_name": "myenv",
   "language": "python",
   "name": "python3"
  },
  "language_info": {
   "codemirror_mode": {
    "name": "ipython",
    "version": 3
   },
   "file_extension": ".py",
   "mimetype": "text/x-python",
   "name": "python",
   "nbconvert_exporter": "python",
   "pygments_lexer": "ipython3",
   "version": "3.10.8"
  },
  "orig_nbformat": 4,
  "vscode": {
   "interpreter": {
    "hash": "09ac0f642c4809c63ace70dc888cbd5b35159287af3895fb76989324c78b2f31"
   }
  }
 },
 "nbformat": 4,
 "nbformat_minor": 2
}
