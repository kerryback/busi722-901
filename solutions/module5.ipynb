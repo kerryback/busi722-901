{
 "cells": [
  {
   "cell_type": "markdown",
   "id": "9ac0ebbb-37ee-452f-8961-c53850636902",
   "metadata": {},
   "source": [
    "5.1 Explain what it means to sell a call and to sell a put by filling in the ...\n",
    "\n",
    "To sell a call creates an obligation to ... if the buyer exercises the option\n",
    "\n",
    "To sell a put creates an obligation to ... if the buyer exercises the option."
   ]
  },
  {
   "cell_type": "markdown",
   "id": "ae1fb785-6674-4a65-8a62-c2b0ab1e134c",
   "metadata": {},
   "source": [
    "To sell a call creates an obligation to sell to the clearinghouse at the strike price if the buyer exercises the option.\n",
    "\n",
    "To sell a put creates an obligation to buy from the clearinghouse at the strike price if the buyer exercises the option."
   ]
  },
  {
   "cell_type": "markdown",
   "id": "35531ff5-95fb-4646-bbe4-272b8883214b",
   "metadata": {},
   "source": [
    "5.2 You have 10,000 dollars today before selling a put option with a strike of 80 dollars that has a maturity date of 10 days from now. The stock is now trading at 100 dollars, and the put premium for the option is 5 dollars.\n",
    "\n",
    "The stock at maturity is 75 dollars. How much money did you have the day you sold the put and at the date of maturity?  Option contracts are for a bundle of 100 shares, so multiply all option-related numbers by 100.\n",
    "\n",
    " \n",
    "\n",
    "Today money:\n",
    "\n",
    "Maturity money:"
   ]
  },
  {
   "cell_type": "code",
   "execution_count": 8,
   "id": "611ba56a-e6f9-4846-a671-b28627bc7eaf",
   "metadata": {},
   "outputs": [
    {
     "name": "stdout",
     "output_type": "stream",
     "text": [
      "Today money: $10500.00\n",
      "\n",
      "Maturity money: $10000.00\n",
      "\n"
     ]
    }
   ],
   "source": [
    "import numpy as np\n",
    "\n",
    "initial = 10000\n",
    "strike = 80\n",
    "put_premium = 5\n",
    "current_stock = 100\n",
    "maturity_stock = 75\n",
    "\n",
    "# today\n",
    "today_premium = put_premium * 100\n",
    "today_money = initial + today_premium\n",
    "\n",
    "# At maturity\n",
    "loss = (strike-maturity_stock)* 100\n",
    "net_loss = loss - today_premium\n",
    "maturity_money=initial+net_loss\n",
    "\n",
    "# Print results\n",
    "print(f\"Today money: ${today_money:.2f}\\n\")\n",
    "print(f\"Maturity money: ${maturity_money:.2f}\\n\")"
   ]
  },
  {
   "cell_type": "markdown",
   "id": "f85fc5a8-503c-4206-98bd-f34baff13bc1",
   "metadata": {},
   "source": [
    "5.3 You own a Stock that is trading at 148 dollars, and you want to buy insurance, but you do not want to pay it out of pocket. You decide to protect your money by buying a costless col\n",
    "lar. Using the table above, propose one costless collar."
   ]
  },
  {
   "cell_type": "markdown",
   "id": "f83aa222-cfd5-4213-a3e3-acc01ebe2ad2",
   "metadata": {},
   "source": [
    "Buy Put:\n",
    "\n",
    "  - Strike: $140\n",
    "    \n",
    "  - Premium: $6.25\n",
    "    \n",
    "  - Protects if the stock falls below $140\n",
    "\n",
    "Sell Call:\n",
    "\n",
    "  - Strike: $155\n",
    "    \n",
    "  - Premium: $6.50\n",
    "    \n",
    "  - Offsets put cost (in fact earn $0.25 net)\n",
    "\n",
    "Strategy:\n",
    "\n",
    "  - Stock ≤ $140: Exercise put\n",
    "    \n",
    "  - Stock ≥ $155: call exercised"
   ]
  },
  {
   "cell_type": "markdown",
   "id": "b3bcc8ea-47fc-4afb-9806-dcde21bb3e35",
   "metadata": {},
   "source": [
    "5.4 Assume that the current stock price is 50 dollars and the risk-free rate is 2 percent. A call option with a strike price of 60 dollars and 1 year to maturity is currently priced at 5 dollars, and the put option with the same strike price is priced at 3 dollars.\n",
    "\n",
    "1. Use the put-call parity formula to calculate the present value of the strike price.\n",
    "2. Verify whether put-call parity holds in this scenario."
   ]
  },
  {
   "cell_type": "code",
   "execution_count": 23,
   "id": "225851f3-bd81-423a-8a7b-892b039af4d3",
   "metadata": {},
   "outputs": [
    {
     "name": "stdout",
     "output_type": "stream",
     "text": [
      "Present Value of Strike using the put-call parity formula: $48.00\n",
      "Present Value of Strike using PV formula: $58.82\n",
      "Call price - Put price: $2.00\n",
      "Stock price - Present Value of Strike: $-8.82\n",
      "Difference between left and right hand sides: $10.82\n",
      "Put-call parity does not hold.\n"
     ]
    }
   ],
   "source": [
    "import numpy as np\n",
    "\n",
    "stock_current = 50\n",
    "r = 0.02\n",
    "K = 60\n",
    "maturity = 1\n",
    "call_price = 5\n",
    "put_price = 3\n",
    "\n",
    "PV_K = stock_current - call_price + put_price\n",
    "PV_K_2 = K/(1+r)\n",
    "\n",
    "left_side = call_price - put_price\n",
    "right_side = stock_current - PV_K_2\n",
    "\n",
    "diff = abs(left_side - right_side)\n",
    "\n",
    "# Print results\n",
    "print(f\"Present Value of Strike using the put-call parity formula: ${PV_K:.2f}\")\n",
    "print(f\"Present Value of Strike using PV formula: ${PV_K_2:.2f}\")\n",
    "print(f\"Call price - Put price: ${left_side:.2f}\")\n",
    "print(f\"Stock price - Present Value of Strike: ${right_side:.2f}\")\n",
    "print(f\"Difference between left and right hand sides: ${diff:.2f}\")\n",
    "print(f\"Put-call parity does not hold.\")"
   ]
  },
  {
   "cell_type": "markdown",
   "id": "9010a703-1700-427c-b323-82afa94c6436",
   "metadata": {},
   "source": [
    "5.6 ABC stock is trading at 100 dollasr and has a historical volatility of 30 percent. Options are currently priced to reflect this volatility.  However, you believe that over the next month it will trade in a narrow range, probably between 95 dollars and 105 dollars.  How can you profit from this situation using options without exposing yourself to excessive risk? Provide a detailed strategy, including which options to buy and sell and at what strike prices."
   ]
  },
  {
   "cell_type": "markdown",
   "id": "442ef63f-19b7-4d78-b903-36b25f7d2fa3",
   "metadata": {},
   "source": [
    "Strategy: Condor\n",
    "\n",
    "1. Sell call at strike price of \\$105\n",
    "2. Buy call at strike price \\$110 with\n",
    "3. Sell put at strike price \\$95 with\n",
    "4. Buy put at strike price \\$90 with\n",
    "\n",
    "- Earns premium from both sides if ABC stock stays between \\$95-\\$105 at expiration while limiting risk due to volatility"
   ]
  }
 ],
 "metadata": {
  "kernelspec": {
   "display_name": "Python 3 (ipykernel)",
   "language": "python",
   "name": "python3"
  },
  "language_info": {
   "codemirror_mode": {
    "name": "ipython",
    "version": 3
   },
   "file_extension": ".py",
   "mimetype": "text/x-python",
   "name": "python",
   "nbconvert_exporter": "python",
   "pygments_lexer": "ipython3",
   "version": "3.9.6"
  }
 },
 "nbformat": 4,
 "nbformat_minor": 5
}
